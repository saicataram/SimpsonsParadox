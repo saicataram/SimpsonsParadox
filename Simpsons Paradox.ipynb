{
 "cells": [
  {
   "cell_type": "code",
   "execution_count": 1,
   "metadata": {},
   "outputs": [],
   "source": [
    "import pandas as pd\n",
    "import numpy as np\n",
    "import matplotlib.pyplot as plt\n",
    "import seaborn as sns"
   ]
  },
  {
   "cell_type": "code",
   "execution_count": 2,
   "metadata": {},
   "outputs": [],
   "source": [
    "test_df=pd.read_csv('californiaDDSDataV2.csv')"
   ]
  },
  {
   "cell_type": "code",
   "execution_count": 3,
   "metadata": {},
   "outputs": [
    {
     "data": {
      "text/html": [
       "<div>\n",
       "<style scoped>\n",
       "    .dataframe tbody tr th:only-of-type {\n",
       "        vertical-align: middle;\n",
       "    }\n",
       "\n",
       "    .dataframe tbody tr th {\n",
       "        vertical-align: top;\n",
       "    }\n",
       "\n",
       "    .dataframe thead th {\n",
       "        text-align: right;\n",
       "    }\n",
       "</style>\n",
       "<table border=\"1\" class=\"dataframe\">\n",
       "  <thead>\n",
       "    <tr style=\"text-align: right;\">\n",
       "      <th></th>\n",
       "      <th>Id</th>\n",
       "      <th>Age Cohort</th>\n",
       "      <th>Age</th>\n",
       "      <th>Gender</th>\n",
       "      <th>Expenditures</th>\n",
       "      <th>Ethnicity</th>\n",
       "    </tr>\n",
       "  </thead>\n",
       "  <tbody>\n",
       "    <tr>\n",
       "      <td>0</td>\n",
       "      <td>10210</td>\n",
       "      <td>13 to 17</td>\n",
       "      <td>17</td>\n",
       "      <td>Female</td>\n",
       "      <td>2113</td>\n",
       "      <td>White not Hispanic</td>\n",
       "    </tr>\n",
       "    <tr>\n",
       "      <td>1</td>\n",
       "      <td>10409</td>\n",
       "      <td>22 to 50</td>\n",
       "      <td>37</td>\n",
       "      <td>Male</td>\n",
       "      <td>41924</td>\n",
       "      <td>White not Hispanic</td>\n",
       "    </tr>\n",
       "    <tr>\n",
       "      <td>2</td>\n",
       "      <td>10486</td>\n",
       "      <td>0 to 5</td>\n",
       "      <td>3</td>\n",
       "      <td>Male</td>\n",
       "      <td>1454</td>\n",
       "      <td>Hispanic</td>\n",
       "    </tr>\n",
       "    <tr>\n",
       "      <td>3</td>\n",
       "      <td>10538</td>\n",
       "      <td>18 to 21</td>\n",
       "      <td>19</td>\n",
       "      <td>Female</td>\n",
       "      <td>6400</td>\n",
       "      <td>Hispanic</td>\n",
       "    </tr>\n",
       "    <tr>\n",
       "      <td>4</td>\n",
       "      <td>10568</td>\n",
       "      <td>13 to 17</td>\n",
       "      <td>13</td>\n",
       "      <td>Male</td>\n",
       "      <td>4412</td>\n",
       "      <td>White not Hispanic</td>\n",
       "    </tr>\n",
       "  </tbody>\n",
       "</table>\n",
       "</div>"
      ],
      "text/plain": [
       "      Id Age Cohort  Age  Gender  Expenditures           Ethnicity\n",
       "0  10210   13 to 17   17  Female          2113  White not Hispanic\n",
       "1  10409   22 to 50   37    Male         41924  White not Hispanic\n",
       "2  10486     0 to 5    3    Male          1454            Hispanic\n",
       "3  10538   18 to 21   19  Female          6400            Hispanic\n",
       "4  10568   13 to 17   13    Male          4412  White not Hispanic"
      ]
     },
     "execution_count": 3,
     "metadata": {},
     "output_type": "execute_result"
    }
   ],
   "source": [
    "test_df.head()"
   ]
  },
  {
   "cell_type": "code",
   "execution_count": 4,
   "metadata": {},
   "outputs": [
    {
     "data": {
      "text/html": [
       "<div>\n",
       "<style scoped>\n",
       "    .dataframe tbody tr th:only-of-type {\n",
       "        vertical-align: middle;\n",
       "    }\n",
       "\n",
       "    .dataframe tbody tr th {\n",
       "        vertical-align: top;\n",
       "    }\n",
       "\n",
       "    .dataframe thead th {\n",
       "        text-align: right;\n",
       "    }\n",
       "</style>\n",
       "<table border=\"1\" class=\"dataframe\">\n",
       "  <thead>\n",
       "    <tr style=\"text-align: right;\">\n",
       "      <th></th>\n",
       "      <th>Id</th>\n",
       "      <th>Age</th>\n",
       "      <th>Expenditures</th>\n",
       "    </tr>\n",
       "  </thead>\n",
       "  <tbody>\n",
       "    <tr>\n",
       "      <td>count</td>\n",
       "      <td>1000.000000</td>\n",
       "      <td>1000.000000</td>\n",
       "      <td>1000.000000</td>\n",
       "    </tr>\n",
       "    <tr>\n",
       "      <td>mean</td>\n",
       "      <td>54662.846000</td>\n",
       "      <td>22.800000</td>\n",
       "      <td>18065.786000</td>\n",
       "    </tr>\n",
       "    <tr>\n",
       "      <td>std</td>\n",
       "      <td>25643.673401</td>\n",
       "      <td>18.462038</td>\n",
       "      <td>19542.830884</td>\n",
       "    </tr>\n",
       "    <tr>\n",
       "      <td>min</td>\n",
       "      <td>10210.000000</td>\n",
       "      <td>0.000000</td>\n",
       "      <td>222.000000</td>\n",
       "    </tr>\n",
       "    <tr>\n",
       "      <td>25%</td>\n",
       "      <td>31808.750000</td>\n",
       "      <td>12.000000</td>\n",
       "      <td>2898.750000</td>\n",
       "    </tr>\n",
       "    <tr>\n",
       "      <td>50%</td>\n",
       "      <td>55384.500000</td>\n",
       "      <td>18.000000</td>\n",
       "      <td>7026.000000</td>\n",
       "    </tr>\n",
       "    <tr>\n",
       "      <td>75%</td>\n",
       "      <td>76134.750000</td>\n",
       "      <td>26.000000</td>\n",
       "      <td>37712.750000</td>\n",
       "    </tr>\n",
       "    <tr>\n",
       "      <td>max</td>\n",
       "      <td>99898.000000</td>\n",
       "      <td>95.000000</td>\n",
       "      <td>75098.000000</td>\n",
       "    </tr>\n",
       "  </tbody>\n",
       "</table>\n",
       "</div>"
      ],
      "text/plain": [
       "                 Id          Age  Expenditures\n",
       "count   1000.000000  1000.000000   1000.000000\n",
       "mean   54662.846000    22.800000  18065.786000\n",
       "std    25643.673401    18.462038  19542.830884\n",
       "min    10210.000000     0.000000    222.000000\n",
       "25%    31808.750000    12.000000   2898.750000\n",
       "50%    55384.500000    18.000000   7026.000000\n",
       "75%    76134.750000    26.000000  37712.750000\n",
       "max    99898.000000    95.000000  75098.000000"
      ]
     },
     "execution_count": 4,
     "metadata": {},
     "output_type": "execute_result"
    }
   ],
   "source": [
    "test_df.describe()"
   ]
  },
  {
   "cell_type": "code",
   "execution_count": 5,
   "metadata": {},
   "outputs": [
    {
     "data": {
      "text/html": [
       "<div>\n",
       "<style scoped>\n",
       "    .dataframe tbody tr th:only-of-type {\n",
       "        vertical-align: middle;\n",
       "    }\n",
       "\n",
       "    .dataframe tbody tr th {\n",
       "        vertical-align: top;\n",
       "    }\n",
       "\n",
       "    .dataframe thead th {\n",
       "        text-align: right;\n",
       "    }\n",
       "</style>\n",
       "<table border=\"1\" class=\"dataframe\">\n",
       "  <thead>\n",
       "    <tr style=\"text-align: right;\">\n",
       "      <th></th>\n",
       "      <th>Id</th>\n",
       "      <th>Age</th>\n",
       "      <th>Expenditures</th>\n",
       "    </tr>\n",
       "    <tr>\n",
       "      <th>Ethnicity</th>\n",
       "      <th></th>\n",
       "      <th></th>\n",
       "      <th></th>\n",
       "    </tr>\n",
       "  </thead>\n",
       "  <tbody>\n",
       "    <tr>\n",
       "      <td>Other</td>\n",
       "      <td>62868.500000</td>\n",
       "      <td>16.000000</td>\n",
       "      <td>3316.500000</td>\n",
       "    </tr>\n",
       "    <tr>\n",
       "      <td>Multi Race</td>\n",
       "      <td>59606.153846</td>\n",
       "      <td>10.269231</td>\n",
       "      <td>4456.730769</td>\n",
       "    </tr>\n",
       "    <tr>\n",
       "      <td>Hispanic</td>\n",
       "      <td>53741.686170</td>\n",
       "      <td>17.375000</td>\n",
       "      <td>11065.569149</td>\n",
       "    </tr>\n",
       "    <tr>\n",
       "      <td>Asian</td>\n",
       "      <td>57662.937984</td>\n",
       "      <td>23.069767</td>\n",
       "      <td>18392.372093</td>\n",
       "    </tr>\n",
       "    <tr>\n",
       "      <td>Black</td>\n",
       "      <td>53498.915254</td>\n",
       "      <td>24.644068</td>\n",
       "      <td>20884.593220</td>\n",
       "    </tr>\n",
       "    <tr>\n",
       "      <td>White not Hispanic</td>\n",
       "      <td>54179.246883</td>\n",
       "      <td>27.975062</td>\n",
       "      <td>24697.548628</td>\n",
       "    </tr>\n",
       "    <tr>\n",
       "      <td>American Indian</td>\n",
       "      <td>61524.500000</td>\n",
       "      <td>53.250000</td>\n",
       "      <td>36438.250000</td>\n",
       "    </tr>\n",
       "    <tr>\n",
       "      <td>Native Hawaiian</td>\n",
       "      <td>71181.333333</td>\n",
       "      <td>35.666667</td>\n",
       "      <td>42782.333333</td>\n",
       "    </tr>\n",
       "  </tbody>\n",
       "</table>\n",
       "</div>"
      ],
      "text/plain": [
       "                              Id        Age  Expenditures\n",
       "Ethnicity                                                \n",
       "Other               62868.500000  16.000000   3316.500000\n",
       "Multi Race          59606.153846  10.269231   4456.730769\n",
       "Hispanic            53741.686170  17.375000  11065.569149\n",
       "Asian               57662.937984  23.069767  18392.372093\n",
       "Black               53498.915254  24.644068  20884.593220\n",
       "White not Hispanic  54179.246883  27.975062  24697.548628\n",
       "American Indian     61524.500000  53.250000  36438.250000\n",
       "Native Hawaiian     71181.333333  35.666667  42782.333333"
      ]
     },
     "execution_count": 5,
     "metadata": {},
     "output_type": "execute_result"
    }
   ],
   "source": [
    "test_df.groupby('Ethnicity').mean().sort_values('Expenditures')"
   ]
  },
  {
   "cell_type": "code",
   "execution_count": 6,
   "metadata": {},
   "outputs": [],
   "source": [
    "#sns.boxplot(x=test_df('Expenditure'),y=test_df('Ethnicity'),data=test_df)\n",
    "#sns.boxplot(data = test_df)\n",
    "\n",
    "#sns.boxplot(y = 'Ethnicity', x = test_df['Expenditure'], data = test_df)\n",
    "\n",
    "#test_df.boxplot(column = ['Expenditure'], by = 'Ethnicity')"
   ]
  },
  {
   "cell_type": "code",
   "execution_count": 7,
   "metadata": {},
   "outputs": [
    {
     "data": {
      "text/plain": [
       "<matplotlib.axes._subplots.AxesSubplot at 0x1bf08acbd08>"
      ]
     },
     "execution_count": 7,
     "metadata": {},
     "output_type": "execute_result"
    },
    {
     "data": {
      "image/png": "[encoded data removed]",
      "text/plain": [
       "<Figure size 432x288 with 1 Axes>"
      ]
     },
     "metadata": {
      "needs_background": "light"
     },
     "output_type": "display_data"
    }
   ],
   "source": [
    "test_df.boxplot()"
   ]
  },
  {
   "cell_type": "code",
   "execution_count": 8,
   "metadata": {},
   "outputs": [
    {
     "data": {
      "text/html": [
       "<div>\n",
       "<style scoped>\n",
       "    .dataframe tbody tr th:only-of-type {\n",
       "        vertical-align: middle;\n",
       "    }\n",
       "\n",
       "    .dataframe tbody tr th {\n",
       "        vertical-align: top;\n",
       "    }\n",
       "\n",
       "    .dataframe thead th {\n",
       "        text-align: right;\n",
       "    }\n",
       "</style>\n",
       "<table border=\"1\" class=\"dataframe\">\n",
       "  <thead>\n",
       "    <tr style=\"text-align: right;\">\n",
       "      <th></th>\n",
       "      <th>Expenditures</th>\n",
       "    </tr>\n",
       "    <tr>\n",
       "      <th>Gender</th>\n",
       "      <th></th>\n",
       "    </tr>\n",
       "  </thead>\n",
       "  <tbody>\n",
       "    <tr>\n",
       "      <td>Female</td>\n",
       "      <td>18129.606362</td>\n",
       "    </tr>\n",
       "    <tr>\n",
       "      <td>Male</td>\n",
       "      <td>18001.195171</td>\n",
       "    </tr>\n",
       "  </tbody>\n",
       "</table>\n",
       "</div>"
      ],
      "text/plain": [
       "        Expenditures\n",
       "Gender              \n",
       "Female  18129.606362\n",
       "Male    18001.195171"
      ]
     },
     "execution_count": 8,
     "metadata": {},
     "output_type": "execute_result"
    }
   ],
   "source": [
    "test_df.loc[:,['Gender', 'Expenditures']].groupby('Gender').mean().sort_values('Gender')"
   ]
  },
  {
   "cell_type": "code",
   "execution_count": 9,
   "metadata": {},
   "outputs": [
    {
     "data": {
      "text/html": [
       "<div>\n",
       "<style scoped>\n",
       "    .dataframe tbody tr th:only-of-type {\n",
       "        vertical-align: middle;\n",
       "    }\n",
       "\n",
       "    .dataframe tbody tr th {\n",
       "        vertical-align: top;\n",
       "    }\n",
       "\n",
       "    .dataframe thead th {\n",
       "        text-align: right;\n",
       "    }\n",
       "</style>\n",
       "<table border=\"1\" class=\"dataframe\">\n",
       "  <thead>\n",
       "    <tr style=\"text-align: right;\">\n",
       "      <th></th>\n",
       "      <th>Expenditures</th>\n",
       "    </tr>\n",
       "    <tr>\n",
       "      <th>Age Cohort</th>\n",
       "      <th></th>\n",
       "    </tr>\n",
       "  </thead>\n",
       "  <tbody>\n",
       "    <tr>\n",
       "      <td>0 to 5</td>\n",
       "      <td>1415.280488</td>\n",
       "    </tr>\n",
       "    <tr>\n",
       "      <td>6 to 12</td>\n",
       "      <td>2226.862857</td>\n",
       "    </tr>\n",
       "    <tr>\n",
       "      <td>13 to 17</td>\n",
       "      <td>3922.613208</td>\n",
       "    </tr>\n",
       "    <tr>\n",
       "      <td>18 to 21</td>\n",
       "      <td>9888.537688</td>\n",
       "    </tr>\n",
       "    <tr>\n",
       "      <td>22 to 50</td>\n",
       "      <td>40209.283186</td>\n",
       "    </tr>\n",
       "    <tr>\n",
       "      <td>51+</td>\n",
       "      <td>53521.896226</td>\n",
       "    </tr>\n",
       "  </tbody>\n",
       "</table>\n",
       "</div>"
      ],
      "text/plain": [
       "            Expenditures\n",
       "Age Cohort              \n",
       "0 to 5       1415.280488\n",
       "6 to 12      2226.862857\n",
       "13 to 17     3922.613208\n",
       "18 to 21     9888.537688\n",
       "22 to 50    40209.283186\n",
       "51+         53521.896226"
      ]
     },
     "execution_count": 9,
     "metadata": {},
     "output_type": "execute_result"
    }
   ],
   "source": [
    "test_df.loc[:,['Age Cohort', 'Expenditures']].groupby('Age Cohort').mean().sort_values('Expenditures')"
   ]
  },
  {
   "cell_type": "code",
   "execution_count": 10,
   "metadata": {},
   "outputs": [],
   "source": [
    "df = test_df.loc[:,['Age Cohort', 'Expenditures', 'Ethnicity']]"
   ]
  },
  {
   "cell_type": "code",
   "execution_count": 11,
   "metadata": {},
   "outputs": [],
   "source": [
    "zero_to_5 = df['Age Cohort'] == '0 to 5'\n",
    "six_to_12 = df['Age Cohort'] == '6 to 12'\n",
    "thirteen_to_17 = df['Age Cohort'] == '13 to 17'\n",
    "eighteen_to_21 = df['Age Cohort'] == '18 to 21'\n",
    "twentytwo_to_50 = df['Age Cohort'] == '22 to 50'\n",
    "fiftyone_plus = df['Age Cohort'] == '51+'"
   ]
  },
  {
   "cell_type": "code",
   "execution_count": 12,
   "metadata": {},
   "outputs": [
    {
     "data": {
      "image/png": "[encoded data removed]",
      "text/plain": [
       "<Figure size 432x288 with 1 Axes>"
      ]
     },
     "metadata": {
      "needs_background": "light"
     },
     "output_type": "display_data"
    }
   ],
   "source": [
    "bplot=sns.boxplot(y='Ethnicity', x='Expenditures', \n",
    "                 data=df.where(zero_to_5).dropna().sort_values('Ethnicity'), \n",
    "                 width=0.5,\n",
    "                 palette=\"colorblind\")\n",
    "bplot.axes.set_title(\"Expenditures By Ethnicity, Age: 0 to 5\", fontsize=16) \n",
    "bplot.set_xlabel(\"Expenditures\", fontsize=14)\n",
    "bplot.set_ylabel(\"Ethnicity\", fontsize=14) \n",
    "bplot.tick_params(labelsize=10)"
   ]
  },
  {
   "cell_type": "code",
   "execution_count": 13,
   "metadata": {},
   "outputs": [
    {
     "data": {
      "image/png": "[encoded data removed]",
      "text/plain": [
       "<Figure size 432x288 with 1 Axes>"
      ]
     },
     "metadata": {
      "needs_background": "light"
     },
     "output_type": "display_data"
    }
   ],
   "source": [
    "bplot=sns.boxplot(y='Ethnicity', x='Expenditures', \n",
    "                 data=df.where(six_to_12).dropna().sort_values('Ethnicity'), \n",
    "                 width=0.5,\n",
    "                 palette=\"colorblind\")\n",
    "bplot.axes.set_title(\"Expenditures By Ethnicity, Age: 6 to 12\", fontsize=16) \n",
    "bplot.set_xlabel(\"Expenditures\", fontsize=14)\n",
    "bplot.set_ylabel(\"Ethnicity\", fontsize=14) \n",
    "bplot.tick_params(labelsize=10)"
   ]
  },
  {
   "cell_type": "code",
   "execution_count": 14,
   "metadata": {},
   "outputs": [
    {
     "data": {
      "image/png": "[encoded data removed]",
      "text/plain": [
       "<Figure size 432x288 with 1 Axes>"
      ]
     },
     "metadata": {
      "needs_background": "light"
     },
     "output_type": "display_data"
    }
   ],
   "source": [
    "bplot=sns.boxplot(y='Ethnicity', x='Expenditures', \n",
    "                 data=df.where(thirteen_to_17).dropna().sort_values('Ethnicity'), \n",
    "                 width=0.5,\n",
    "                 palette=\"colorblind\")\n",
    "bplot.axes.set_title(\"Expenditures By Ethnicity, Age: 13 to 17\", fontsize=16) \n",
    "bplot.set_xlabel(\"Expenditures\", fontsize=14)\n",
    "bplot.set_ylabel(\"Ethnicity\", fontsize=14) \n",
    "bplot.tick_params(labelsize=10)"
   ]
  },
  {
   "cell_type": "code",
   "execution_count": 15,
   "metadata": {},
   "outputs": [
    {
     "data": {
      "image/png": "[encoded data removed]",
      "text/plain": [
       "<Figure size 432x288 with 1 Axes>"
      ]
     },
     "metadata": {
      "needs_background": "light"
     },
     "output_type": "display_data"
    }
   ],
   "source": [
    "bplot=sns.boxplot(y='Ethnicity', x='Expenditures', \n",
    "                 data=df.where(eighteen_to_21).dropna().sort_values('Ethnicity'), \n",
    "                 width=0.5,\n",
    "                 palette=\"colorblind\")\n",
    "bplot.axes.set_title(\"Expenditures By Ethnicity, Age: 18 to 21\", fontsize=16) \n",
    "bplot.set_xlabel(\"Expenditures\", fontsize=14)\n",
    "bplot.set_ylabel(\"Ethnicity\", fontsize=14) \n",
    "bplot.tick_params(labelsize=10)"
   ]
  },
  {
   "cell_type": "code",
   "execution_count": 16,
   "metadata": {},
   "outputs": [
    {
     "data": {
      "image/png": "[encoded data removed]",
      "text/plain": [
       "<Figure size 432x288 with 1 Axes>"
      ]
     },
     "metadata": {
      "needs_background": "light"
     },
     "output_type": "display_data"
    }
   ],
   "source": [
    "bplot=sns.boxplot(y='Ethnicity', x='Expenditures', \n",
    "                 data=df.where(twentytwo_to_50).dropna().sort_values('Ethnicity'), \n",
    "                 width=0.5,\n",
    "                 palette=\"colorblind\")\n",
    "bplot.axes.set_title(\"Expenditures By Ethnicity, Age: 22 to 50\", fontsize=16) \n",
    "bplot.set_xlabel(\"Expenditures\", fontsize=14)\n",
    "bplot.set_ylabel(\"Ethnicity\", fontsize=14) \n",
    "bplot.tick_params(labelsize=10)"
   ]
  },
  {
   "cell_type": "code",
   "execution_count": 17,
   "metadata": {},
   "outputs": [
    {
     "data": {
      "image/png": "[encoded data removed]",
      "text/plain": [
       "<Figure size 432x288 with 1 Axes>"
      ]
     },
     "metadata": {
      "needs_background": "light"
     },
     "output_type": "display_data"
    }
   ],
   "source": [
    "bplot=sns.boxplot(y='Ethnicity', x='Expenditures', \n",
    "                 data=df.where(fiftyone_plus).dropna().sort_values('Ethnicity'), \n",
    "                 width=0.5,\n",
    "                 palette=\"colorblind\")\n",
    "bplot.axes.set_title(\"Expenditures By Ethnicity, Age: 50+\", fontsize=16) \n",
    "bplot.set_xlabel(\"Expenditures\", fontsize=14)\n",
    "bplot.set_ylabel(\"Ethnicity\", fontsize=14) \n",
    "bplot.tick_params(labelsize=10)"
   ]
  },
  {
   "cell_type": "code",
   "execution_count": null,
   "metadata": {},
   "outputs": [],
   "source": []
  }
 ],
 "metadata": {
  "kernelspec": {
   "display_name": "Python 3",
   "language": "python",
   "name": "python3"
  },
  "language_info": {
   "codemirror_mode": {
    "name": "ipython",
    "version": 3
   },
   "file_extension": ".py",
   "mimetype": "text/x-python",
   "name": "python",
   "nbconvert_exporter": "python",
   "pygments_lexer": "ipython3",
   "version": "3.7.4"
  }
 },
 "nbformat": 4,
 "nbformat_minor": 2
}
